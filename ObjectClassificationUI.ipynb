{
 "cells": [
  {
   "cell_type": "code",
   "execution_count": 12,
   "metadata": {},
   "outputs": [],
   "source": [
    "from tkinter import *\n",
    "from PIL import Image,ImageTk\n",
    "from keras.models import load_model\n",
    "from tkinter import filedialog\n",
    "import numpy as numpy"
   ]
  },
  {
   "cell_type": "code",
   "execution_count": 13,
   "metadata": {},
   "outputs": [],
   "source": [
    "model = load_model('Desktop\\Wise\\model_86.h5')"
   ]
  },
  {
   "cell_type": "code",
   "execution_count": 14,
   "metadata": {},
   "outputs": [],
   "source": [
    "classes = { \n",
    "    0:'Aeroplane',\n",
    "    1:'Automobile',\n",
    "    2:'Bird',\n",
    "    3:'Cat',\n",
    "    4:'Deer',\n",
    "    5:'Dog',\n",
    "    6:'Frog',\n",
    "    7:'Horse',\n",
    "    8:'Ship',\n",
    "    9:'Truck' \n",
    "}"
   ]
  },
  {
   "cell_type": "code",
   "execution_count": 15,
   "metadata": {
    "scrolled": true
   },
   "outputs": [
    {
     "name": "stdout",
     "output_type": "stream",
     "text": [
      "Predicted Class: Bird\n",
      "Predicted Class: Dog\n"
     ]
    }
   ],
   "source": [
    "window=Tk()\n",
    "window.geometry('800x500')\n",
    "window.title('Object Recognition')\n",
    "window.configure(background='#EDCBE8')\n",
    "label=Label(window,background='#EDCBE8', font=('arial',15,'bold'))\n",
    "sign_image=Label(window, background=\"#EDCBE8\")\n",
    "def classify():\n",
    "    global label_packed\n",
    "    image = Image.open(file_path)\n",
    "    image = image.resize((32,32))\n",
    "    image = numpy.expand_dims(image, axis=0)\n",
    "    image = numpy.array(image)\n",
    "    pred = model.predict_classes([image])[0]\n",
    "    sign = \"Predicted Class: \" + classes[pred]\n",
    "    print(sign)\n",
    "    label.configure(foreground='#364156', text=sign) \n",
    "def upload_image():\n",
    "    global file_path\n",
    "    file_path=filedialog.askopenfilename(initialdir = \"/Users/user/Desktop/Wise/test_images\",\n",
    "                                         title = \"Select a File\", \n",
    "                                          filetypes = ((\"all files\", \n",
    "                                                        \"*.*\"),(\"Text files\", \n",
    "                                                        \"*.txt*\")))\n",
    "    uploaded=Image.open(file_path)\n",
    "    uploaded.thumbnail(((window.winfo_width()/2.25),\n",
    "                        (window.winfo_height()/2.25)))\n",
    "    im=ImageTk.PhotoImage(uploaded)\n",
    "    sign_image.configure(image=im)\n",
    "    sign_image.image=im\n",
    "    label.configure(text='')\n",
    "    classify()\n",
    "file_path = ''\n",
    "heading = Label(window, text=\"Object Recognition\",pady=20, font=('arial',20,'bold'))\n",
    "heading.configure(background='#EDCBE8',foreground='#364156')\n",
    "text = Label(window, text = \"Classification of uploaded image based on Cifar-10 dataset classes.\", font=('arial', 10, 'bold'), foreground = \"black\",background=\"#EDCBE8\")\n",
    "heading.pack(side=TOP)\n",
    "text.pack(side=TOP)\n",
    "upload=Button(window,text=\"Upload an image\",command=upload_image,\n",
    "  padx=5,pady=5)\n",
    "upload.configure(background='#364156', foreground='white',\n",
    "    font=('arial',10,'bold'))\n",
    "upload.pack(side=TOP,pady=50)\n",
    "sign_image.pack(side=TOP,expand=True)\n",
    "label.pack(side=BOTTOM,expand=True)\n",
    "\n",
    "window.mainloop()"
   ]
  },
  {
   "cell_type": "code",
   "execution_count": null,
   "metadata": {},
   "outputs": [],
   "source": []
  }
 ],
 "metadata": {
  "kernelspec": {
   "display_name": "Python 3",
   "language": "python",
   "name": "python3"
  },
  "language_info": {
   "codemirror_mode": {
    "name": "ipython",
    "version": 3
   },
   "file_extension": ".py",
   "mimetype": "text/x-python",
   "name": "python",
   "nbconvert_exporter": "python",
   "pygments_lexer": "ipython3",
   "version": "3.7.8"
  }
 },
 "nbformat": 4,
 "nbformat_minor": 4
}
